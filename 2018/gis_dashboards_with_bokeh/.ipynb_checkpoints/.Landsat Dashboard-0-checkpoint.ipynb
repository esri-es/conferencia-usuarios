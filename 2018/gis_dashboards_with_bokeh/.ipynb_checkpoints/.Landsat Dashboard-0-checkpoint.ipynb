{
 "cells": [
  {
   "cell_type": "markdown",
   "metadata": {
    "extensions": {
     "jupyter_dashboards": {
      "version": 1,
      "views": {
       "grid_default": {},
       "report_default": {}
      }
     }
    },
    "slideshow": {
     "slide_type": "slide"
    }
   },
   "source": [
    "# Comparador de imágenes Landsat"
   ]
  },
  {
   "cell_type": "code",
   "execution_count": 1,
   "metadata": {
    "extensions": {
     "jupyter_dashboards": {
      "version": 1,
      "views": {
       "grid_default": {},
       "report_default": {}
      }
     }
    },
    "slideshow": {
     "slide_type": "subslide"
    }
   },
   "outputs": [],
   "source": [
    "## Importar librerías necesarias\n",
    "\n",
    "from arcgis.gis import GIS\n",
    "from arcgis.geocoding import geocode\n",
    "from arcgis.raster.functions import *\n",
    "from arcgis import geometry\n",
    "    \n",
    "import pandas as pd"
   ]
  },
  {
   "cell_type": "code",
   "execution_count": 2,
   "metadata": {
    "extensions": {
     "jupyter_dashboards": {
      "version": 1,
      "views": {
       "grid_default": {},
       "report_default": {}
      }
     }
    },
    "slideshow": {
     "slide_type": "subslide"
    }
   },
   "outputs": [],
   "source": [
    "## Conectar con GIS \n",
    "\n",
    "gis = GIS()"
   ]
  },
  {
   "cell_type": "code",
   "execution_count": 3,
   "metadata": {
    "extensions": {
     "jupyter_dashboards": {
      "version": 1,
      "views": {
       "grid_default": {},
       "report_default": {}
      }
     }
    },
    "slideshow": {
     "slide_type": "subslide"
    }
   },
   "outputs": [
    {
     "data": {
      "text/plain": [
       "[<ImageryLayer url:\"https://landsat2.arcgis.com/arcgis/rest/services/Landsat/MS/ImageServer\">]"
      ]
     },
     "execution_count": 3,
     "metadata": {},
     "output_type": "execute_result"
    }
   ],
   "source": [
    "## Conectar con Landsat y buscar imágenes\n",
    "\n",
    "landsat_item = gis.content.search('\"Multispectral Landsat\"', 'Imagery Layer', outside_org=True)[0]\n",
    "landsat = landsat_item.layers[0]\n",
    "df = None\n",
    "\n",
    "## Para conocer las propiedades de la capa que estamos cargando\n",
    "landsat_item.layers"
   ]
  },
  {
   "cell_type": "code",
   "execution_count": 6,
   "metadata": {
    "extensions": {
     "jupyter_dashboards": {
      "version": 1,
      "views": {
       "grid_default": {},
       "report_default": {}
      }
     }
    },
    "slideshow": {
     "slide_type": "subslide"
    }
   },
   "outputs": [
    {
     "data": {
      "application/vnd.jupyter.widget-view+json": {
       "model_id": "252c426c0dde40c6a0ab6100ac330de7",
       "version_major": 2,
       "version_minor": 0
      },
      "text/plain": [
       "HBox(children=(Text(value='Puertollano, Spain', description='Location:', placeholder='Puertollano, Spain'), Bu…"
      ]
     },
     "metadata": {},
     "output_type": "display_data"
    }
   ],
   "source": [
    "## Crear los controles del widget\n",
    "\n",
    "import ipywidgets as widgets\n",
    "\n",
    "# widget de texto para localizacción\n",
    "location = widgets.Text(value='Puertollano, Spain', placeholder='Puertollano, Spain',\n",
    "                        description='Location:', disabled=False)\n",
    "\n",
    "# widget botón\n",
    "gobtn = widgets.Button(description='Go', disabled=False,\n",
    "                       button_style='', tooltip='Go', icon='check')\n",
    "\n",
    "# define qué pasa cuando clicas el botón\n",
    "def on_gobutton_clicked(b):\n",
    "    global df\n",
    "    global m\n",
    "    global oldslider\n",
    "    \n",
    "    # geocodifica la localización y establece el extent del mapa\n",
    "    area = geocode(location.value)[0]\n",
    "    m.extent = area['extent']\n",
    "    df = filter_images()\n",
    "    \n",
    "gobtn.on_click(on_gobutton_clicked)\n",
    "\n",
    "location_items = [location, gobtn]\n",
    "widgets.HBox(location_items)"
   ]
  },
  {
   "cell_type": "code",
   "execution_count": 5,
   "metadata": {
    "extensions": {
     "jupyter_dashboards": {
      "version": 1,
      "views": {
       "grid_default": {},
       "report_default": {}
      }
     }
    },
    "slideshow": {
     "slide_type": "subslide"
    }
   },
   "outputs": [
    {
     "data": {
      "application/vnd.jupyter.widget-view+json": {
       "model_id": "687eadee68a845b39ab6a0bedb0cd048",
       "version_major": 2,
       "version_minor": 0
      },
      "text/plain": [
       "MapView(layout=Layout(height='400px', width='100%'))"
      ]
     },
     "metadata": {},
     "output_type": "display_data"
    }
   ],
   "source": [
    "## Crear el Mapa con la imagen Landsat\n",
    "\n",
    "m = gis.map(location.value)\n",
    "m.add_layer(landsat)\n",
    "display(m)"
   ]
  },
  {
   "cell_type": "code",
   "execution_count": 6,
   "metadata": {
    "extensions": {
     "jupyter_dashboards": {
      "version": 1,
      "views": {
       "grid_default": {},
       "report_default": {}
      }
     }
    },
    "slideshow": {
     "slide_type": "slide"
    }
   },
   "outputs": [
    {
     "data": {
      "application/vnd.jupyter.widget-view+json": {
       "model_id": "7f0b809186c34380aa6d0c9455aca19b",
       "version_major": 2,
       "version_minor": 0
      },
      "text/plain": [
       "HBox(children=(IntSlider(value=0, description='Older:', max=10, readout=False, readout_format='f'), Label(valu…"
      ]
     },
     "metadata": {},
     "output_type": "display_data"
    }
   ],
   "source": [
    "## Crear controladores de fecha\n",
    "## Se crean dos controladores de widget para seleccionar el antes y el después\n",
    "\n",
    "oldindex =  0 # int(len(df)/2)\n",
    "\n",
    "# define el slider para la imagen antigua\n",
    "oldslider = widgets.IntSlider(value=oldindex, min=0,max=10, #len(df) - 1,\n",
    "                              step=1, description='Older:', disabled=False,\n",
    "                              continuous_update=True, orientation='horizontal',\n",
    "                              readout=False, readout_format='f', slider_color='white')\n",
    "\n",
    "old_label = widgets.Label(value='')#str(df.Time.iloc[oldindex].date()))\n",
    "\n",
    "# define el comportamiento del slider\n",
    "def on_old_value_change(change):\n",
    "    global df\n",
    "    i = change['new']\n",
    "    if df is not None:\n",
    "        try:\n",
    "            # print(df.Time.iloc[i].date())\n",
    "            old_label.value = str(df.Time.iloc[i].date())\n",
    "        except:\n",
    "            pass\n",
    "        \n",
    "oldslider.observe(on_old_value_change, names='value')    \n",
    "widgets.HBox([oldslider, old_label])"
   ]
  },
  {
   "cell_type": "code",
   "execution_count": 7,
   "metadata": {
    "extensions": {
     "jupyter_dashboards": {
      "version": 1,
      "views": {
       "grid_default": {},
       "report_default": {}
      }
     }
    },
    "slideshow": {
     "slide_type": "slide"
    }
   },
   "outputs": [
    {
     "data": {
      "application/vnd.jupyter.widget-view+json": {
       "model_id": "702911aa9ee14696a4b76c2b10ff233e",
       "version_major": 2,
       "version_minor": 0
      },
      "text/plain": [
       "HBox(children=(IntSlider(value=0, description='Newer:', max=10, readout=False, readout_format='f'), Label(valu…"
      ]
     },
     "metadata": {},
     "output_type": "display_data"
    }
   ],
   "source": [
    "newindex = 0 # len(df) - 1\n",
    "\n",
    "# define el slider de la imagen nueva\n",
    "newslider = widgets.IntSlider(value=newindex, min=0, max=10, #len(df) - 1,\n",
    "                              step=1, description='Newer:', disabled=False,\n",
    "                              continuous_update=True, orientation='horizontal',\n",
    "                              readout=False, readout_format='f', slider_color='white')\n",
    "\n",
    "new_label = widgets.Label(value='') #str(df.Time.iloc[newindex].date()))\n",
    "\n",
    "# define el comportamiento del slider\n",
    "def on_new_value_change(change):\n",
    "    global df\n",
    "    i = change['new']\n",
    "    if df is not None:\n",
    "        try:\n",
    "        # print(df.Time.iloc[i].date())\n",
    "            new_label.value = str(df.Time.iloc[i].date())\n",
    "        except:\n",
    "            pass\n",
    "newslider.observe(on_new_value_change, names='value')\n",
    "widgets.HBox([newslider, new_label])"
   ]
  },
  {
   "cell_type": "code",
   "execution_count": 8,
   "metadata": {
    "extensions": {
     "jupyter_dashboards": {
      "version": 1,
      "views": {
       "grid_default": {},
       "report_default": {}
      }
     }
    },
    "slideshow": {
     "slide_type": "subslide"
    }
   },
   "outputs": [],
   "source": [
    "## Filtra las imágenes Landsat por las fechas\n",
    "\n",
    "def update_sliders(tdf):\n",
    "    global oldslider\n",
    "    global newslider\n",
    "    \n",
    "    oldslider.max = len(tdf) - 1\n",
    "    newslider.max = len(tdf) -1\n",
    "    oldindex = int(len(tdf) /2)\n",
    "    newindex = int(len(tdf) -1)\n",
    "    oldslider.value = oldindex\n",
    "    newslider.value = newindex\n",
    "    old_label.value = str(tdf.Time.iloc[oldindex].date())\n",
    "    new_label.value = str(tdf.Time.iloc[newindex].date())\n",
    "\n",
    "\n",
    "def filter_images():\n",
    "    global df\n",
    "    area = geocode(location.value, out_sr=landsat.properties.spatialReference)[0]\n",
    "    extent = area['extent']\n",
    "\n",
    "    selected = landsat.filter_by(where=\"(Category = 1) AND (CloudCover <=0.10)\", \n",
    "                             geometry=geometry.filters.intersects(extent))\n",
    "    fs = selected.query(out_fields=\"AcquisitionDate, GroupName, Best, CloudCover, WRS_Row, WRS_Path, Month, Name\", \n",
    "                  return_geometry=True,\n",
    "                  return_distinct_values=False,\n",
    "                  order_by_fields=\"AcquisitionDate\")\n",
    "    tdf = fs.sdf\n",
    "    df = tdf\n",
    "    tdf['Time'] = pd.to_datetime(tdf['AcquisitionDate'], unit='ms')    \n",
    "    \n",
    "    if len(tdf) > 1:\n",
    "        update_sliders(tdf)\n",
    "\n",
    "    m.draw(tdf.iloc[oldslider.value].SHAPE)\n",
    "    \n",
    "    return tdf"
   ]
  },
  {
   "cell_type": "code",
   "execution_count": 9,
   "metadata": {
    "extensions": {
     "jupyter_dashboards": {
      "version": 1,
      "views": {
       "grid_default": {},
       "report_default": {}
      }
     }
    },
    "slideshow": {
     "slide_type": "slide"
    }
   },
   "outputs": [],
   "source": [
    "df = filter_images()"
   ]
  },
  {
   "cell_type": "code",
   "execution_count": 10,
   "metadata": {
    "extensions": {
     "jupyter_dashboards": {
      "version": 1,
      "views": {
       "grid_default": {},
       "report_default": {}
      }
     }
    },
    "slideshow": {
     "slide_type": "subslide"
    }
   },
   "outputs": [
    {
     "data": {
      "application/vnd.jupyter.widget-view+json": {
       "model_id": "7c4a9e8e7a104c2f8e05ab7426974a52",
       "version_major": 2,
       "version_minor": 0
      },
      "text/plain": [
       "Button(button_style='success', description='Detect changes', icon='check', style=ButtonStyle(), tooltip='Show …"
      ]
     },
     "metadata": {},
     "output_type": "display_data"
    }
   ],
   "source": [
    "## Calcula el cambio entre una imagen y otra\n",
    "\n",
    "# create the action button\n",
    "diffbtn = widgets.Button(description='Detect changes', disabled=False,\n",
    "                         button_style='success', tooltip='Show Different Image',\n",
    "                         icon='check')\n",
    "\n",
    "def on_diffbutton_clicked(b):\n",
    "    # m.clear_graphics()\n",
    "    first = df.iloc[oldslider.value].OBJECTID\n",
    "    last = df.iloc[newslider.value].OBJECTID\n",
    "    old = landsat.filter_by('OBJECTID='+str(first))\n",
    "    new = landsat.filter_by('OBJECTID='+str(last))\n",
    "    diff = stretch(composite_band([ndvi(old, '5 4'),\n",
    "                               ndvi(new, '5 4'),\n",
    "                               ndvi(old, '5 4')]), \n",
    "                               stretch_type='stddev',  num_stddev=3, min=0, max=255, dra=True, astype='u8')\n",
    "    m.add_layer(diff)\n",
    "    \n",
    "diffbtn.on_click(on_diffbutton_clicked)\n",
    "diffbtn"
   ]
  },
  {
   "cell_type": "code",
   "execution_count": null,
   "metadata": {},
   "outputs": [],
   "source": []
  }
 ],
 "metadata": {
  "extensions": {
   "jupyter_dashboards": {
    "activeView": "grid_default",
    "version": 1,
    "views": {
     "grid_default": {
      "cellMargin": 10,
      "defaultCellHeight": 20,
      "maxColumns": 12,
      "name": "grid",
      "type": "grid"
     },
     "report_default": {
      "name": "report",
      "type": "report"
     }
    }
   }
  },
  "kernelspec": {
   "display_name": "Python 3",
   "language": "python",
   "name": "python3"
  },
  "language_info": {
   "codemirror_mode": {
    "name": "ipython",
    "version": 3
   },
   "file_extension": ".py",
   "mimetype": "text/x-python",
   "name": "python",
   "nbconvert_exporter": "python",
   "pygments_lexer": "ipython3",
   "version": "3.5.5"
  }
 },
 "nbformat": 4,
 "nbformat_minor": 2
}
